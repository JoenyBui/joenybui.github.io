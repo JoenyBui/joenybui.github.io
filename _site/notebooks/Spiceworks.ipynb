{
 "cells": [
  {
   "cell_type": "code",
   "execution_count": 1,
   "metadata": {},
   "outputs": [],
   "source": [
    "import os"
   ]
  },
  {
   "cell_type": "code",
   "execution_count": 13,
   "metadata": {},
   "outputs": [],
   "source": [
    "# How do you highlight specific words in a html string?\n",
    "# You can use jquery to select a tag mark.\n",
    "# select and user <mark></mark>"
   ]
  },
  {
   "cell_type": "code",
   "execution_count": 28,
   "metadata": {},
   "outputs": [
    {
     "data": {
      "text/plain": [
       "10"
      ]
     },
     "execution_count": 28,
     "metadata": {},
     "output_type": "execute_result"
    }
   ],
   "source": [
    "# Return a random integer x from an array of integers \"y\" \n",
    "# after given an array of integers to exclude from that array \"z\".\n",
    "# use a set to take a difference\n",
    "\n",
    "from random import randint\n",
    "i = [1, 2, 3, 4, 5, 6, 7 , 8, 9]\n",
    "j = [3, 5]\n",
    "randint(0, 10)\n",
    "\n",
    "new_list = list(set(i) - set(j))\n",
    "new_list[randint(0, len(new_list)-1)]\n",
    "\n",
    "# what if you can only use primitive?\n"
   ]
  },
  {
   "cell_type": "code",
   "execution_count": 26,
   "metadata": {},
   "outputs": [],
   "source": [
    "# Given a postfix string, return the result of the operation\n"
   ]
  },
  {
   "cell_type": "code",
   "execution_count": 12,
   "metadata": {},
   "outputs": [
    {
     "data": {
      "text/plain": [
       "13"
      ]
     },
     "execution_count": 12,
     "metadata": {},
     "output_type": "execute_result"
    }
   ],
   "source": [
    "# Implement find nth fibonacci\n",
    "# Fn = Fn-1 + Fn-2\n",
    "# 0, 1, 1, 2, 3, 5, 8, 13, 21, 34, 55, 89, 144, ……..\n",
    "\n",
    "def F(n):\n",
    "    if n <= 1: return n\n",
    "    else:\n",
    "        return F(n-1) + F(n-2)\n",
    "    \n",
    "F(7)"
   ]
  },
  {
   "cell_type": "markdown",
   "metadata": {},
   "source": [
    "## Define Big O notation of insert, delete for array, hash, and linked list. What are the differences and in what cases would you use each?\n",
    "\n",
    "### Array\n",
    "+ Insert -> \n",
    "+ Delete -> \n",
    "\n",
    "### Hash\n",
    "+ Insert -> \n",
    "+ Delete -> \n",
    "\n",
    "### Linked List\n",
    "+ Insert -> O(n)\n",
    "+ Delete -> O(n)\n"
   ]
  },
  {
   "cell_type": "markdown",
   "metadata": {},
   "source": [
    "![Pascal Traingle](https://miro.medium.com/max/1344/1*BswW10Q9p_FaVhubzwsrTA.png)"
   ]
  },
  {
   "cell_type": "code",
   "execution_count": 46,
   "metadata": {},
   "outputs": [
    {
     "name": "stdout",
     "output_type": "stream",
     "text": [
      "1\n",
      "1 1\n",
      "1 2 1\n",
      "1 3 3 1\n",
      "1 4 6 4 1\n",
      "1 5 10 10 5 1\n",
      "1 6 15 20 15 6 1\n",
      "1 7 21 35 35 21 7 1\n"
     ]
    }
   ],
   "source": [
    "# Output pascal's triangle from 1 to n.\n",
    "\n",
    "def pascal_triangle(n):\n",
    "    prev_row = []\n",
    "    for i in range(0, n):\n",
    "        if i == 0: row = [1]\n",
    "        elif i == 1: row = [1, 1]\n",
    "        else: row = [1] + [prev_row[j] + prev_row[j-1] for j in range(1, i)] + [1]\n",
    "        prev_row = row\n",
    "        print(f\"{' '.join(list(map(str, row)))}\")\n",
    "              \n",
    "pascal_triangle(8)"
   ]
  },
  {
   "cell_type": "code",
   "execution_count": null,
   "metadata": {},
   "outputs": [],
   "source": []
  },
  {
   "cell_type": "markdown",
   "metadata": {},
   "source": [
    "\n",
    "|character|numerical value|\n",
    "|-|-|\n",
    "|I|1|\n",
    "|V|5|\n",
    "|X|10|\n",
    "|L|50|\n",
    "|C|100|\n",
    "|D|500|\n",
    "|M|1000|\n"
   ]
  },
  {
   "cell_type": "code",
   "execution_count": 3,
   "metadata": {},
   "outputs": [
    {
     "data": {
      "text/plain": [
       "'XVIII'"
      ]
     },
     "execution_count": 3,
     "metadata": {},
     "output_type": "execute_result"
    }
   ],
   "source": [
    "# Given an integer, output the roman numeral value.\n",
    "# Look at the pattern for roman numerals\n",
    "\n",
    "# 1 -> I\n",
    "# 2 -> II\n",
    "# 3 -> III\n",
    "# 4 -> IV\n",
    "# 5 -> V\n",
    "\n",
    "# 6 -> VI\n",
    "# 7 -> VII\n",
    "# 8 -> VIII\n",
    "# 9 -> IX\n",
    "# 10 -> X\n",
    "\n",
    "# 11 -> XI\n",
    "# 12 -> XII\n",
    "# 13 -> XIII\n",
    "# 14 -> XIV\n",
    "# 15 -> XV\n",
    "\n",
    "# 16 -> XVI\n",
    "# 17 -> XVII\n",
    "# 18 -> XVIII\n",
    "# 19 -> XIX\n",
    "# 20 -> XX\n",
    "\n",
    "# 50 -> L\n",
    "\n",
    "def get_roman_numerals(original_value):\n",
    "    # Go from large to lowest, divide the number whole and add to it, and work out the remainder\n",
    "    # create a map \n",
    "    roman_numerals = [\n",
    "        (1000, \"M\"), \n",
    "        (500, \"D\"), \n",
    "        (100, \"C\"), \n",
    "        (50, \"L\"), \n",
    "        (10, \"X\"), \n",
    "        (9, \"IX\"),\n",
    "        (8, \"VIII\"),\n",
    "        (7, \"VII\"),\n",
    "        (6, \"VI\"),\n",
    "        (5, \"V\"),\n",
    "        (4, \"IV\"),\n",
    "        (3, \"III\"),\n",
    "        (2, \"II\"),\n",
    "        (1, \"I\")\n",
    "    ]\n",
    "\n",
    "    roman = \"\"\n",
    "    for value, character in roman_numerals:\n",
    "        num_of_character = int(original_value / value)\n",
    "        remainder = original_value % value\n",
    "        if (num_of_character):\n",
    "            roman += (num_of_character*character)\n",
    "        original_value = remainder\n",
    "\n",
    "    return roman\n",
    "\n",
    "get_roman_numerals(18)"
   ]
  },
  {
   "cell_type": "code",
   "execution_count": 8,
   "metadata": {},
   "outputs": [
    {
     "name": "stdout",
     "output_type": "stream",
     "text": [
      "Key 123 has more than one value\n",
      "Key 2 has more than one value\n"
     ]
    }
   ],
   "source": [
    "# How to find all duplicate values in an extremely large, unsorted array.\n",
    "\n",
    "# Sounds like a hash map problem\n",
    "# return duplicates\n",
    "# return clean array\n",
    "\n",
    "# write test case\n",
    "array = [123, 123, 2, 8, 0, 2, 10]\n",
    "hash_map = {}\n",
    "\n",
    "for i in array:\n",
    "    hash_map[i] = hash_map.get(i, 0) + 1\n",
    "\n",
    "for key, item in hash_map.items():\n",
    "    if item > 1: print(f\"Key {key} has more than one value\")\n",
    "        \n",
    "# What if we need to sort it?\n",
    "# if we want to save on space, we will have to sort the list inline and loop through the list to see if similiarily"
   ]
  },
  {
   "cell_type": "code",
   "execution_count": null,
   "metadata": {},
   "outputs": [],
   "source": []
  }
 ],
 "metadata": {
  "kernelspec": {
   "display_name": "Python 3",
   "language": "python",
   "name": "python3"
  },
  "language_info": {
   "codemirror_mode": {
    "name": "ipython",
    "version": 3
   },
   "file_extension": ".py",
   "mimetype": "text/x-python",
   "name": "python",
   "nbconvert_exporter": "python",
   "pygments_lexer": "ipython3",
   "version": "3.7.3"
  }
 },
 "nbformat": 4,
 "nbformat_minor": 2
}
