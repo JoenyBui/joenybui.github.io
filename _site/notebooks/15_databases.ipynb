{
 "cells": [
  {
   "cell_type": "code",
   "execution_count": 1,
   "metadata": {},
   "outputs": [],
   "source": [
    "import os"
   ]
  },
  {
   "cell_type": "code",
   "execution_count": 2,
   "metadata": {},
   "outputs": [],
   "source": [
    "import sqlalchemy as db"
   ]
  },
  {
   "cell_type": "code",
   "execution_count": 3,
   "metadata": {},
   "outputs": [],
   "source": [
    "from sqlalchemy import create_engine"
   ]
  },
  {
   "cell_type": "code",
   "execution_count": 4,
   "metadata": {},
   "outputs": [],
   "source": [
    "from uuid import uuid4"
   ]
  },
  {
   "cell_type": "code",
   "execution_count": 5,
   "metadata": {},
   "outputs": [],
   "source": [
    "from faker import Faker"
   ]
  },
  {
   "cell_type": "code",
   "execution_count": 6,
   "metadata": {},
   "outputs": [],
   "source": [
    "fake = Faker()"
   ]
  },
  {
   "cell_type": "code",
   "execution_count": 7,
   "metadata": {},
   "outputs": [],
   "source": [
    "from random import randint"
   ]
  },
  {
   "cell_type": "markdown",
   "metadata": {},
   "source": [
    "## 15.1 \n",
    "### Write a method to find the number of employees in each department "
   ]
  },
  {
   "cell_type": "markdown",
   "metadata": {},
   "source": [
    "There are two tables:\n",
    "\n",
    "```sql\n",
    "create table departments (\n",
    "    id string primary key,\n",
    "    name string\n",
    ")\n",
    "```\n",
    "\n",
    "```sql\n",
    "create table employees (\n",
    "    id string primary key,\n",
    "    name string,\n",
    "    department_id string references departments(id)\n",
    ")\n",
    "```\n",
    "\n",
    "```sql\n",
    "create table groups (\n",
    "    id string primary key,\n",
    "    name string                      \n",
    ")\n",
    "```\n",
    "\n",
    "```sql\n",
    "create table group_members (\n",
    "    group_id string references groups(id) not null,\n",
    "    employee_id string references employees(id) not null,\n",
    "    unique (group_id, employee_id)\n",
    ")\n",
    "```\n",
    "\n",
    "Query\n",
    "\n",
    "```sql\n",
    "select d.name, count(*) as 'num_employees' from departments d join employees e on d.id=e.department_id group by d.name;\n",
    "```"
   ]
  },
  {
   "cell_type": "code",
   "execution_count": 8,
   "metadata": {},
   "outputs": [],
   "source": [
    "os.remove('foo.db')\n",
    "engine = create_engine('sqlite:///foo.db')\n",
    "connection = engine.connect()"
   ]
  },
  {
   "cell_type": "markdown",
   "metadata": {},
   "source": [
    "## Create Tables"
   ]
  },
  {
   "cell_type": "code",
   "execution_count": 9,
   "metadata": {},
   "outputs": [
    {
     "data": {
      "text/plain": [
       "<sqlalchemy.engine.result.ResultProxy at 0x112f5b438>"
      ]
     },
     "execution_count": 9,
     "metadata": {},
     "output_type": "execute_result"
    }
   ],
   "source": [
    "# Department\n",
    "engine.execute(f\"create table departments (id string primary key, name string)\")"
   ]
  },
  {
   "cell_type": "code",
   "execution_count": 10,
   "metadata": {},
   "outputs": [
    {
     "data": {
      "text/plain": [
       "<sqlalchemy.engine.result.ResultProxy at 0x112f5bb38>"
      ]
     },
     "execution_count": 10,
     "metadata": {},
     "output_type": "execute_result"
    }
   ],
   "source": [
    "# Employees\n",
    "engine.execute(f\"create table employees (id string primary key, name string, department_id string references departments(id))\")"
   ]
  },
  {
   "cell_type": "code",
   "execution_count": 11,
   "metadata": {},
   "outputs": [
    {
     "data": {
      "text/plain": [
       "<sqlalchemy.engine.result.ResultProxy at 0x112f5be80>"
      ]
     },
     "execution_count": 11,
     "metadata": {},
     "output_type": "execute_result"
    }
   ],
   "source": [
    "# Groups\n",
    "engine.execute(f\"create table groups (id string primary key, name string)\")"
   ]
  },
  {
   "cell_type": "code",
   "execution_count": 12,
   "metadata": {},
   "outputs": [
    {
     "data": {
      "text/plain": [
       "<sqlalchemy.engine.result.ResultProxy at 0x112f81278>"
      ]
     },
     "execution_count": 12,
     "metadata": {},
     "output_type": "execute_result"
    }
   ],
   "source": [
    "# Group Members\n",
    "engine.execute(f\"create table group_members (group_id string references groups(id) not null, employee_id string references employees(id) not null, unique (group_id, employee_id))\")"
   ]
  },
  {
   "cell_type": "code",
   "execution_count": 13,
   "metadata": {},
   "outputs": [],
   "source": [
    "departments = [\n",
    "    (str(uuid4()), 'Human Resource', True),\n",
    "    (str(uuid4()), 'Support', True),\n",
    "    (str(uuid4()), 'Sales', True),\n",
    "    (str(uuid4()), 'Technology', False)\n",
    "]"
   ]
  },
  {
   "cell_type": "code",
   "execution_count": 14,
   "metadata": {},
   "outputs": [],
   "source": [
    "for (id, name, add_people) in departments:\n",
    "    engine.execute(f\"insert into departments (id, name) values ('{id}', '{name}')\")\n",
    "    if add_people:\n",
    "        for index in range(0, randint(1, 10)):\n",
    "            engine.execute(f\"insert into employees (id, name, department_id) values ('{str(uuid4())}', '{fake.name()}', '{id}')\")"
   ]
  },
  {
   "cell_type": "code",
   "execution_count": 15,
   "metadata": {},
   "outputs": [],
   "source": [
    "# Employees\n",
    "employees_ids = [r[0] for r in engine.execute(f\"select e.id, e.name, d.name from employees e join departments d on e.department_id=d.id\")]"
   ]
  },
  {
   "cell_type": "code",
   "execution_count": 16,
   "metadata": {},
   "outputs": [],
   "source": [
    "for job in [fake.job() for index in range(0, randint(1, 10))]:\n",
    "    group_id = str(uuid4())\n",
    "    engine.execute(f\"insert into groups (id, name) values ('{group_id}', '{job}')\")\n",
    "    ids = [(group_id, employees_ids[randint(0, len(employees_ids)-1)]) for i in range(0, 10)]\n",
    "    string = ','.join(f\"('{i[0]}', '{i[1]}')\" for i in ids)\n",
    "    engine.execute(f\"insert into group_members (group_id, employee_id) values {string} on conflict (group_id, employee_id) do nothing\")"
   ]
  },
  {
   "cell_type": "code",
   "execution_count": 17,
   "metadata": {},
   "outputs": [
    {
     "data": {
      "text/plain": [
       "[('8dc4a390-c7c5-418a-a379-4d07719ad76b', 'Human Resource'),\n",
       " ('c73f0c7b-d786-4f5a-8799-07169d638f52', 'Support'),\n",
       " ('756e228b-3c50-4d3d-9726-34608fb7dd9e', 'Sales'),\n",
       " ('1b559f55-8107-4620-8f86-1c9433be8a8b', 'Technology')]"
      ]
     },
     "execution_count": 17,
     "metadata": {},
     "output_type": "execute_result"
    }
   ],
   "source": [
    "# Show me all the department\n",
    "[r for r in engine.execute(f\"select * from departments\")]"
   ]
  },
  {
   "cell_type": "code",
   "execution_count": 18,
   "metadata": {},
   "outputs": [
    {
     "data": {
      "text/plain": [
       "['71a3796b-8575-4d5e-9d7b-6c79be5be721',\n",
       " 'c41cfcc7-e2d1-474a-a96a-f6f23c062b4e',\n",
       " '2d4a5549-7ce7-4948-ae0e-6bff54b44b26',\n",
       " 'bae4f2d0-0276-4fe5-b3cf-f96e3fca0576',\n",
       " '4ba13ef2-42de-4714-8aa9-8e27bba47486',\n",
       " 'ddde6e96-b0af-476b-bfb0-5ece6574b1b4',\n",
       " '89517ec3-61a0-4ea9-91f1-d428b6fd4595',\n",
       " 'eb2e5970-4322-47f5-8318-39193518c205',\n",
       " '55ff5f0a-f8f1-4bf5-8a4b-8f18687141ae',\n",
       " 'eb2dc2bd-dbe9-4471-ace4-f3aed852d601',\n",
       " 'cea488d9-fdc2-4962-93de-4cf73b9f82ed',\n",
       " '47e2dafa-c98c-46c7-9ad8-c61745ec61e5',\n",
       " 'd9c5d302-4290-4873-8282-7a5aa53fed21']"
      ]
     },
     "execution_count": 18,
     "metadata": {},
     "output_type": "execute_result"
    }
   ],
   "source": [
    "employees_ids"
   ]
  },
  {
   "cell_type": "code",
   "execution_count": 19,
   "metadata": {},
   "outputs": [
    {
     "data": {
      "text/plain": [
       "[('7649a6e9-e437-4f1f-a250-8a49e42cd6f8', 'Engineer, building services'),\n",
       " ('467423c6-49f1-41e8-aecf-262f1f451564', 'Music therapist')]"
      ]
     },
     "execution_count": 19,
     "metadata": {},
     "output_type": "execute_result"
    }
   ],
   "source": [
    "[r for r in engine.execute(f\"select * from groups\")]"
   ]
  },
  {
   "cell_type": "code",
   "execution_count": 20,
   "metadata": {},
   "outputs": [
    {
     "data": {
      "text/plain": [
       "[('7649a6e9-e437-4f1f-a250-8a49e42cd6f8', '89517ec3-61a0-4ea9-91f1-d428b6fd4595'),\n",
       " ('7649a6e9-e437-4f1f-a250-8a49e42cd6f8', '4ba13ef2-42de-4714-8aa9-8e27bba47486'),\n",
       " ('7649a6e9-e437-4f1f-a250-8a49e42cd6f8', '55ff5f0a-f8f1-4bf5-8a4b-8f18687141ae'),\n",
       " ('7649a6e9-e437-4f1f-a250-8a49e42cd6f8', 'd9c5d302-4290-4873-8282-7a5aa53fed21'),\n",
       " ('7649a6e9-e437-4f1f-a250-8a49e42cd6f8', 'ddde6e96-b0af-476b-bfb0-5ece6574b1b4'),\n",
       " ('7649a6e9-e437-4f1f-a250-8a49e42cd6f8', '2d4a5549-7ce7-4948-ae0e-6bff54b44b26'),\n",
       " ('467423c6-49f1-41e8-aecf-262f1f451564', '71a3796b-8575-4d5e-9d7b-6c79be5be721'),\n",
       " ('467423c6-49f1-41e8-aecf-262f1f451564', '89517ec3-61a0-4ea9-91f1-d428b6fd4595'),\n",
       " ('467423c6-49f1-41e8-aecf-262f1f451564', 'cea488d9-fdc2-4962-93de-4cf73b9f82ed'),\n",
       " ('467423c6-49f1-41e8-aecf-262f1f451564', 'bae4f2d0-0276-4fe5-b3cf-f96e3fca0576')]"
      ]
     },
     "execution_count": 20,
     "metadata": {},
     "output_type": "execute_result"
    }
   ],
   "source": [
    "[r for r in engine.execute(f\"select * from group_members limit 10\")]"
   ]
  },
  {
   "cell_type": "code",
   "execution_count": 21,
   "metadata": {},
   "outputs": [
    {
     "data": {
      "text/plain": [
       "[('1b559f55-8107-4620-8f86-1c9433be8a8b', 'Technology', 0),\n",
       " ('756e228b-3c50-4d3d-9726-34608fb7dd9e', 'Sales', 10),\n",
       " ('8dc4a390-c7c5-418a-a379-4d07719ad76b', 'Human Resource', 1),\n",
       " ('c73f0c7b-d786-4f5a-8799-07169d638f52', 'Support', 2)]"
      ]
     },
     "execution_count": 21,
     "metadata": {},
     "output_type": "execute_result"
    }
   ],
   "source": [
    "# Need left join to add the null join case\n",
    "[r for r in engine.execute(f\"select d.id, d.name, count(e.id) as 'num_employees' from departments d left join employees e on d.id=e.department_id group by d.id, d.name\")]"
   ]
  },
  {
   "cell_type": "code",
   "execution_count": 22,
   "metadata": {},
   "outputs": [
    {
     "data": {
      "text/plain": [
       "[('Engineer, building services', 'Joseph Williams'),\n",
       " ('Engineer, building services', 'Michael Clark'),\n",
       " ('Engineer, building services', 'Kathleen Molina'),\n",
       " ('Engineer, building services', 'Donald Alvarado'),\n",
       " ('Engineer, building services', 'Patrick Paul'),\n",
       " ('Engineer, building services', 'George Becker'),\n",
       " ('Music therapist', 'Jeremy Wright'),\n",
       " ('Music therapist', 'Joseph Williams'),\n",
       " ('Music therapist', 'Mary Miller'),\n",
       " ('Music therapist', 'Henry Chambers'),\n",
       " ('Music therapist', 'Patrick Barr'),\n",
       " ('Music therapist', 'Kathleen Molina'),\n",
       " ('Music therapist', 'Patrick Paul')]"
      ]
     },
     "execution_count": 22,
     "metadata": {},
     "output_type": "execute_result"
    }
   ],
   "source": [
    "[r for r in engine.execute(f\"select g.name, e.name from groups g join group_members gm on g.id=gm.group_id join employees e on e.id=gm.employee_id\")]"
   ]
  },
  {
   "cell_type": "code",
   "execution_count": 23,
   "metadata": {},
   "outputs": [],
   "source": [
    "#connection.close()"
   ]
  },
  {
   "cell_type": "markdown",
   "metadata": {},
   "source": [
    "## 15.2 \n",
    "### What are the different types of joins? Please explain how they differ and why certain types are better in certain situations"
   ]
  },
  {
   "cell_type": "markdown",
   "metadata": {},
   "source": [
    "### Join (Inner)\n",
    "\n",
    "![Inner Join](https://www.techonthenet.com/sql/images/inner_join.gif)\n",
    "\n",
    "Join only the intersection where the join condition meets.\n",
    "\n",
    "*When to use?*\n",
    "Most common join, where you only want exists.\n",
    "\n",
    "### Left (Outer) Join\n",
    "\n",
    "![Left Join](https://www.techonthenet.com/sql/images/left_outer_join.gif)\n",
    "\n",
    "Join everything on the left, even null.\n",
    "\n",
    "*When to use?*\n",
    "\n",
    "\n",
    "### Right (Right) Join\n",
    "\n",
    "![Right Join](https://www.techonthenet.com/sql/images/right_outer_join.gif)\n",
    "\n",
    "Join everything on the right, even null.\n",
    "\n",
    "*When to use?*\n",
    "\n",
    "### Full (Outer) Join\n",
    "\n",
    "![Full Join](https://www.techonthenet.com/sql/images/full_outer_join.gif)\n",
    "\n",
    "Give me everything.\n",
    "\n",
    "*When to use?*"
   ]
  },
  {
   "cell_type": "markdown",
   "metadata": {},
   "source": [
    "## 15.3 \n",
    "### What is denormalization? Explain the pros and cons "
   ]
  },
  {
   "cell_type": "markdown",
   "metadata": {},
   "source": [
    "Denomorlization is when you want to make sure data does not repeat itself.\n",
    "\n",
    "*Pros*\n",
    "* ACID compliance requirements\n",
    "* Don't Repeat Yourself (DRY) - data integrity\n",
    "* Data needs to be change only once (consistent) - it resides in one place\n",
    "* size efficiency\n",
    "* inserts and updates run quickly\n",
    "\n",
    "\n",
    "*Cons*\n",
    "Joins can be expensive.\n",
    "Read can be expensive\n",
    "Queries can by more complicated\n",
    "With join, indexes does not work as efficientyly"
   ]
  },
  {
   "cell_type": "markdown",
   "metadata": {},
   "source": [
    "## 15.4 \n",
    "### Draw an entity-relationship diagram for a database with companies, people, and pro- fessionals (people who work for companies)"
   ]
  },
  {
   "cell_type": "markdown",
   "metadata": {},
   "source": [
    "**see above**"
   ]
  },
  {
   "cell_type": "markdown",
   "metadata": {},
   "source": [
    "## 15.5 \n",
    "Imagine a simple database storing information for students’ grades. Design what this database might look like, and provide a SQL query to return a list of the honor roll students (top 10%), sorted by their grade point average "
   ]
  },
  {
   "cell_type": "markdown",
   "metadata": {},
   "source": [
    "Two tables\n",
    "\n",
    "```sql\n",
    "create table students (\n",
    "    id string primary key,\n",
    "    name string\n",
    "    \n",
    ")\n",
    "```\n",
    "\n",
    "```sql\n",
    "create table grades (\n",
    "    id string primary key,\n",
    "    student_id string references students(id),\n",
    "    grade integer not null\n",
    ")\n",
    "```\n"
   ]
  },
  {
   "cell_type": "code",
   "execution_count": 24,
   "metadata": {},
   "outputs": [
    {
     "data": {
      "text/plain": [
       "<sqlalchemy.engine.result.ResultProxy at 0x112f85860>"
      ]
     },
     "execution_count": 24,
     "metadata": {},
     "output_type": "execute_result"
    }
   ],
   "source": [
    "engine.execute(f\"create table students (id string primary key, name string)\")\n",
    "engine.execute(f\"create table grades (id string primary key, student_id string references students(id), grade integer not null)\")"
   ]
  },
  {
   "cell_type": "code",
   "execution_count": 25,
   "metadata": {},
   "outputs": [],
   "source": [
    "for (id, name) in [(uuid4(), fake.name()) for index in range(0, 125)]:\n",
    "    engine.execute(f\"insert into students (id, name) values ('{id}', '{name}')\")\n",
    "    for (grade_id, grade) in [(str(uuid4()), randint(0, 101)) for index in range(0, randint(1, 10))]:\n",
    "        engine.execute(f\"insert into grades (id, student_id, grade) values ('{grade_id}', '{id}', '{grade}')\")"
   ]
  },
  {
   "cell_type": "code",
   "execution_count": 26,
   "metadata": {},
   "outputs": [
    {
     "data": {
      "text/plain": [
       "[('9ca33011-b6fc-44fc-b85c-2af3a65aab67', 51.44082840236686)]"
      ]
     },
     "execution_count": 26,
     "metadata": {},
     "output_type": "execute_result"
    }
   ],
   "source": [
    "[r for r in engine.execute('select student_id, avg(grade) as gpa from grades')]"
   ]
  },
  {
   "cell_type": "code",
   "execution_count": 27,
   "metadata": {},
   "outputs": [
    {
     "data": {
      "text/plain": [
       "[(125,)]"
      ]
     },
     "execution_count": 27,
     "metadata": {},
     "output_type": "execute_result"
    }
   ],
   "source": [
    "[r for r in engine.execute('select count(id) from students limit 1')]"
   ]
  },
  {
   "cell_type": "code",
   "execution_count": 28,
   "metadata": {},
   "outputs": [
    {
     "data": {
      "text/plain": [
       "[('Susan Melton', '9636c7e8-f257-4ee6-82e8-fbfa718e221b', 94.0),\n",
       " ('Stephanie Erickson', 'df24877d-cab3-476a-a720-ab893b7a74da', 91.0),\n",
       " ('Brian Adams', 'd6a6de97-9480-427e-95e1-cbb9c39bfed5', 89.66666666666667),\n",
       " ('Thomas Joyce', '26de6f5e-7357-4710-9ab3-97947abb9a91', 79.25),\n",
       " ('Kathleen Obrien', 'e3de5178-c273-4acf-8f91-87b38716e08a', 76.11111111111111),\n",
       " ('Patricia Jones', 'ba3bd697-cee2-453f-b29b-5ea02f59dbec', 76.0),\n",
       " ('Ashley Fisher', '7a1fd2fb-b68d-42c1-b469-c74908e2bd0b', 74.75),\n",
       " ('Michael Martinez', '3833910c-9437-4ae2-ad7b-e55663278037', 74.66666666666667),\n",
       " ('Melissa Martinez', '04bf133f-e90f-4a05-934c-4f4be7c62cd9', 73.0),\n",
       " ('Steven Estes', '0e3a9e0e-9dba-4837-99ff-07f4c8d71f98', 73.0),\n",
       " ('Julie Rodriguez', '72472ed9-9792-481c-a0a3-1634365df81b', 68.5),\n",
       " ('Sandra Mccarthy', '4488ece1-3b57-4c46-81c2-23efce0dfa6b', 67.22222222222223)]"
      ]
     },
     "execution_count": 28,
     "metadata": {},
     "output_type": "execute_result"
    }
   ],
   "source": [
    "[r for r in engine.execute('select s.name, g.id, avg(grade) as gpa from grades g left join students s on s.id=g.student_id group by s.name order by gpa desc limit (select count(id)/10 from students)')]"
   ]
  },
  {
   "cell_type": "code",
   "execution_count": null,
   "metadata": {},
   "outputs": [],
   "source": []
  }
 ],
 "metadata": {
  "kernelspec": {
   "display_name": "Python 3",
   "language": "python",
   "name": "python3"
  },
  "language_info": {
   "codemirror_mode": {
    "name": "ipython",
    "version": 3
   },
   "file_extension": ".py",
   "mimetype": "text/x-python",
   "name": "python",
   "nbconvert_exporter": "python",
   "pygments_lexer": "ipython3",
   "version": "3.7.3"
  }
 },
 "nbformat": 4,
 "nbformat_minor": 2
}
