{
 "cells": [
  {
   "cell_type": "markdown",
   "metadata": {},
   "source": [
    "## 3.1 \n",
    "### Describe how you could use a single array to implement three stacks "
   ]
  },
  {
   "cell_type": "markdown",
   "metadata": {},
   "source": [
    "* assuming that the array is long, you can divide it into three equal parts\n"
   ]
  },
  {
   "cell_type": "code",
   "execution_count": 1,
   "metadata": {},
   "outputs": [],
   "source": [
    "class TripleStack:\n",
    "    __instance = None\n",
    "    stack_size = 300\n",
    "    buffer = [None for i in range(0, stack_size*3)]\n",
    "    stack_pointer = [0, 1*stack_size, 2*stack_size]\n",
    "        \n",
    "    def __init__(self):\n",
    "        if TripleStack.__instance != None:\n",
    "            raise Exception(\"This class is a singlenton!\")\n",
    "        else:\n",
    "            TripleStack.__instance = self\n",
    "            \n",
    "    @staticmethod\n",
    "    def get_obj():\n",
    "        if TripleStack.__instance is None:\n",
    "            TripleStack()\n",
    "        \n",
    "        return TripleStack.__instance\n",
    "    \n",
    "    @staticmethod\n",
    "    def push(stack_num, value):\n",
    "        \"\"\"\n",
    "        Find the index of the top element in the array + 1, and increment the stack pointer.\n",
    "        @param stack:\n",
    "        @param value:\n",
    "        \"\"\"\n",
    "        obj = TripleStack.get_obj()\n",
    "        index = obj.stack_pointer[stack_num]\n",
    "        obj.buffer[index] = value\n",
    "        obj.stack_pointer[stack_num] += 1\n",
    "    \n",
    "    @staticmethod\n",
    "    def pop(stack_num):\n",
    "        obj = TripleStack.get_obj()\n",
    "\n",
    "        last_index = obj.stack_pointer[stack_num]\n",
    "        value = obj.buffer[last_index-1]\n",
    "        obj.stack_pointer[stack_num] = last_index - 1\n",
    "        \n",
    "        obj.buffer[last_index-1] = None\n",
    "        return value\n",
    "    \n",
    "    @staticmethod\n",
    "    def peek(stack_num):\n",
    "        obj = TripleStack.get_obj()\n",
    "        return obj.buffer[obj.stack_pointer[stack_num]-1]\n",
    "    \n",
    "    @staticmethod\n",
    "    def is_empty(stack_num):\n",
    "        obj = TripleStack.get_obj()\n",
    "        return obj.stack_pointer[stack_num] == stack_num*obj.stack_size\n",
    "    "
   ]
  },
  {
   "cell_type": "code",
   "execution_count": 2,
   "metadata": {},
   "outputs": [],
   "source": [
    "TripleStack.push(0, \"Speak\")"
   ]
  },
  {
   "cell_type": "code",
   "execution_count": 3,
   "metadata": {},
   "outputs": [],
   "source": [
    "TripleStack.push(0, \"No way\")"
   ]
  },
  {
   "cell_type": "code",
   "execution_count": 4,
   "metadata": {},
   "outputs": [
    {
     "data": {
      "text/plain": [
       "['Speak', 'No way', None, None, None, None, None, None, None, None]"
      ]
     },
     "execution_count": 4,
     "metadata": {},
     "output_type": "execute_result"
    }
   ],
   "source": [
    "TripleStack.buffer[0:10]"
   ]
  },
  {
   "cell_type": "code",
   "execution_count": 5,
   "metadata": {},
   "outputs": [
    {
     "data": {
      "text/plain": [
       "'No way'"
      ]
     },
     "execution_count": 5,
     "metadata": {},
     "output_type": "execute_result"
    }
   ],
   "source": [
    "TripleStack.peek(0)"
   ]
  },
  {
   "cell_type": "code",
   "execution_count": 8,
   "metadata": {},
   "outputs": [
    {
     "data": {
      "text/plain": [
       "['Speak', 'No way', None, None, None]"
      ]
     },
     "execution_count": 8,
     "metadata": {},
     "output_type": "execute_result"
    }
   ],
   "source": [
    "TripleStack.buffer[:5]"
   ]
  },
  {
   "cell_type": "code",
   "execution_count": 9,
   "metadata": {},
   "outputs": [
    {
     "data": {
      "text/plain": [
       "300"
      ]
     },
     "execution_count": 9,
     "metadata": {},
     "output_type": "execute_result"
    }
   ],
   "source": [
    "TripleStack.stack_pointer[1]"
   ]
  },
  {
   "cell_type": "code",
   "execution_count": 10,
   "metadata": {},
   "outputs": [],
   "source": [
    "TripleStack.push(1, 'Testing')\n",
    "TripleStack.push(1, 'spea')"
   ]
  },
  {
   "cell_type": "code",
   "execution_count": 12,
   "metadata": {},
   "outputs": [
    {
     "data": {
      "text/plain": [
       "'spea'"
      ]
     },
     "execution_count": 12,
     "metadata": {},
     "output_type": "execute_result"
    }
   ],
   "source": [
    "TripleStack.peek(1)"
   ]
  },
  {
   "cell_type": "code",
   "execution_count": 152,
   "metadata": {},
   "outputs": [
    {
     "data": {
      "text/plain": [
       "'Speak'"
      ]
     },
     "execution_count": 152,
     "metadata": {},
     "output_type": "execute_result"
    }
   ],
   "source": [
    "TripleStack.pop(0)"
   ]
  },
  {
   "cell_type": "code",
   "execution_count": 153,
   "metadata": {},
   "outputs": [
    {
     "data": {
      "text/plain": [
       "[None, None, None, None, None, None, None, None, None, None]"
      ]
     },
     "execution_count": 153,
     "metadata": {},
     "output_type": "execute_result"
    }
   ],
   "source": [
    "TripleStack.buffer[0:10]"
   ]
  },
  {
   "cell_type": "code",
   "execution_count": 141,
   "metadata": {},
   "outputs": [
    {
     "data": {
      "text/plain": [
       "[1, 300, 600]"
      ]
     },
     "execution_count": 141,
     "metadata": {},
     "output_type": "execute_result"
    }
   ],
   "source": [
    "TripleStack.stack_pointer"
   ]
  },
  {
   "cell_type": "markdown",
   "metadata": {},
   "source": [
    "## 3.2 \n",
    "### How would you design a stack which, in addition to push and pop, also has a function min which returns the minimum element? Push, pop and min should all operate in O(1) time "
   ]
  },
  {
   "cell_type": "code",
   "execution_count": 27,
   "metadata": {},
   "outputs": [],
   "source": [
    "import sys\n",
    "\n",
    "class Stacks:\n",
    "    __instance = None\n",
    "    buffer = []\n",
    "    min_buffer = []\n",
    "    \n",
    "    def __init__(self):\n",
    "        if Stacks.__instance != None:\n",
    "            raise Exception(\"This class is a singlenton!\")\n",
    "        else:\n",
    "            Stacks.__instance = self\n",
    "    \n",
    "    @staticmethod\n",
    "    def get_obj():\n",
    "        if Stacks.__instance is None:\n",
    "            Stacks()\n",
    "        \n",
    "        return Stacks.__instance\n",
    "    \n",
    "    @staticmethod\n",
    "    def push(value):\n",
    "        obj = Stacks.get_obj()\n",
    "        if (value <= obj._min()): obj.min_buffer.append(value)\n",
    "        obj.buffer.append(value)\n",
    "        \n",
    "    @staticmethod\n",
    "    def pop():\n",
    "        obj = Stacks.get_obj()\n",
    "        value = obj.buffer.pop()\n",
    "        if (value == _min()): obj.min_buffer.pop()\n",
    "        return value\n",
    "    \n",
    "    @staticmethod\n",
    "    def _min():\n",
    "        obj = Stacks.get_obj()\n",
    "        if not obj.min_buffer:\n",
    "            return sys.maxsize\n",
    "        else:\n",
    "            return obj.min_buffer[-1]"
   ]
  },
  {
   "cell_type": "code",
   "execution_count": 28,
   "metadata": {},
   "outputs": [],
   "source": [
    "Stacks.push(100)\n",
    "Stacks.push(898)\n",
    "Stacks.push(10)\n",
    "Stacks.push(200)\n",
    "Stacks.push(-1)"
   ]
  },
  {
   "cell_type": "code",
   "execution_count": 29,
   "metadata": {},
   "outputs": [
    {
     "data": {
      "text/plain": [
       "[100, 898, 10, 200, -1]"
      ]
     },
     "execution_count": 29,
     "metadata": {},
     "output_type": "execute_result"
    }
   ],
   "source": [
    "Stacks.buffer"
   ]
  },
  {
   "cell_type": "code",
   "execution_count": 30,
   "metadata": {},
   "outputs": [
    {
     "data": {
      "text/plain": [
       "[100, 10, -1]"
      ]
     },
     "execution_count": 30,
     "metadata": {},
     "output_type": "execute_result"
    }
   ],
   "source": [
    "Stacks.min_buffer"
   ]
  },
  {
   "cell_type": "markdown",
   "metadata": {},
   "source": [
    "## 3.3 \n",
    "### Imagine a (literal) stack of plates If the stack gets too high, it might topple.  Therefore, in real life, we would likely start a new stack when the previous stack exceeds some threshold. Implement a data structure SetOfStacks that mimics this SetOfStacks should be composed of several stacks, and should create a new stack once the previous one exceeds capacity SetOfStacks push() and SetOfStacks pop() should behave identically to a single stack (that is, pop() should return the same values as it would if there were just a single stack).\n",
    "FOLLOW UP\n",
    "Implement a function popAt(int index) which performs a pop operation on a specific sub-stack "
   ]
  },
  {
   "cell_type": "code",
   "execution_count": null,
   "metadata": {},
   "outputs": [],
   "source": []
  },
  {
   "cell_type": "markdown",
   "metadata": {},
   "source": [
    "## 3.4 \n",
    "### In the classic problem of the Towers of Hanoi, you have 3 rods and N disks of different sizes which can slide on to any tower.  The puzzle starts with disks sorted in ascending order of size from top to bottom (e.g., each disk sits on top of an even larger one).  You have the following constraints:\n",
    "(A) Only one disk can be moved at a time\n",
    "(B) A disk is slid off the top of one rod onto the next rod\n",
    "(C) A disk can only be placed on top of a larger disk\n",
    "Write a program to move the disks from the first rod to the last using Stacks"
   ]
  },
  {
   "cell_type": "code",
   "execution_count": null,
   "metadata": {},
   "outputs": [],
   "source": []
  },
  {
   "cell_type": "markdown",
   "metadata": {},
   "source": [
    "## 3.5 \n",
    "### Implement a MyQueue class which implements a queue using two stacks "
   ]
  },
  {
   "cell_type": "code",
   "execution_count": 31,
   "metadata": {},
   "outputs": [],
   "source": [
    "class MyQueue:\n",
    "    __instance = None\n",
    "    \n",
    "    s1 = []\n",
    "    s2 = []\n",
    "    \n",
    "    def __init__(self):\n",
    "        if MyQueue.__instance != None:\n",
    "            raise Exception(\"This class is a singlenton!\")\n",
    "        else:\n",
    "            Stacks.__instance = self\n",
    "    \n",
    "    @staticmethod\n",
    "    def get_obj():\n",
    "        if MyQueue.__instance is None:\n",
    "            MyQueue()\n",
    "        \n",
    "        return MyQueue.__instance\n",
    "    \n",
    "    @classmethod\n",
    "    def size():\n",
    "        obj = MyQueue.get_obj()\n",
    "        return len(obj.s1) + len(obj.s2)\n",
    "    \n",
    "    @classmethod\n",
    "    def add(value):\n",
    "        MyQueue.get_obj().append(value)\n",
    "        \n",
    "    @classmethod\n",
    "    def peek():\n",
    "        obj = MyQueue.get_obj()\n",
    "        if obj.s2:\n",
    "            return obj.s2[-1]\n",
    "        while (not obj.s1):\n",
    "            obj.s2.append(obj.s1.pop())\n",
    "        return obj.s2.peek()\n",
    "    \n",
    "    @classmethod\n",
    "    def remove():\n",
    "        obj = MyQueue.get_obj()\n",
    "        while not obj.s1:\n",
    "            obj.s2.append(obj.s1.pop())\n",
    "        return obj.s2.pop()\n",
    "        \n",
    "        "
   ]
  },
  {
   "cell_type": "markdown",
   "metadata": {},
   "source": [
    "## 3.6 \n",
    "### Write a program to sort a stack in ascending order You should not make any assump- tions about how the stack is implemented The following are the only functions that should be used to write this program: push | pop | peek | isEmpty "
   ]
  },
  {
   "cell_type": "code",
   "execution_count": null,
   "metadata": {},
   "outputs": [],
   "source": []
  }
 ],
 "metadata": {
  "kernelspec": {
   "display_name": "Python 3",
   "language": "python",
   "name": "python3"
  },
  "language_info": {
   "codemirror_mode": {
    "name": "ipython",
    "version": 3
   },
   "file_extension": ".py",
   "mimetype": "text/x-python",
   "name": "python",
   "nbconvert_exporter": "python",
   "pygments_lexer": "ipython3",
   "version": "3.7.3"
  }
 },
 "nbformat": 4,
 "nbformat_minor": 2
}
