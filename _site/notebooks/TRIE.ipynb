{
 "cells": [
  {
   "cell_type": "markdown",
   "metadata": {},
   "source": [
    "## TRIE \n",
    "Trie is an efficient information re*Trie*val data structure.  Search complexities can be brough to optimal limit (key length)\n",
    "\n",
    "Using Trie, we can search the key in O(M) time.  The penalty is on Trie storage requirements.\n",
    "\n",
    "![TRIE](https://media.geeksforgeeks.org/wp-content/cdn-uploads/Trie.png)"
   ]
  },
  {
   "cell_type": "code",
   "execution_count": 3,
   "metadata": {},
   "outputs": [],
   "source": [
    "from nltk.tokenize import sent_tokenize"
   ]
  },
  {
   "cell_type": "code",
   "execution_count": 4,
   "metadata": {},
   "outputs": [],
   "source": [
    "paragraph = \"\"\"Republican Sen. Rand Paul objected Wednesday to an attempt to pass the bill funding 9/11 first responders' health care unanimously, arguing that passing such a long-term bill without offsetting the cost would contribute to the national debt.  The delay presents another hurdle in the dramatic fight to secure funding for the September 11th Victim Compensation Fund, despite Senate Majority Leader Mitch McConnell's continued reassurances that the fund would be fully funded. After comedian and fund advocate Jon Stewart gave emotional testimony last month accusing lawmakers of failing to support the bill, the measure was swiftly approved for to a floor vote in the House and passed the lower chamber last week on an overwhelmingly bipartisan 402-12 vote.\n",
    "When presidential candidate and Democratic Sen. Kirsten Gillibrand of New york requested unanimous consent -- a procedural move that allows a bill to skip several steps to pass unanimously, without senators casting an individual vote -- on the bill on the Senate floor Wednesday so that it be accelerated to a vote without debate, Paul objected.\n",
    "\"It has long been my feeling that we need to address our massive debt in this country -- we have a $22 trillion debt, we're adding debt at about a trillion dollars a year,\" he said. \"And therefore any new spending that we are approaching, any new program that's going to have the longevity of 70, 80 years, should be offset by cutting spending that's less valuable.\"\n",
    "\"We need to at the very least have this debate. I will be offering up an amendment if this bill should come to the floor, but until then I will object,\" added Paul, who voted in favor of President Donald Trump's $1.5 trillion tax cut. That tax cut is helping drive a deficit increase.\n",
    "Paul was not the only senator who objected to the attempt to pass the bill by unanimous consent on Wednesday. Sen. Mike Lee of Utah \"alerted the cloakroom that he objected to the bill passing without a vote,\" Lee's communications director Conn Carroll told CNN.\n",
    "Though he did not object on the Senate floor in response to Gillibrand's proposal, \"he is seeking a vote to ensure the fund has the proper oversight in place to prevent fraud and abuse,\" Carroll added.\"\"\""
   ]
  },
  {
   "cell_type": "code",
   "execution_count": 127,
   "metadata": {},
   "outputs": [],
   "source": [
    "class TrieNode:\n",
    "    def __init__(self, character, prev=None):\n",
    "        self.character = character\n",
    "        self.parent_node = prev\n",
    "        self.finished = False\n",
    "        self.childrens = {}\n",
    "\n",
    "    def __repr__(self):\n",
    "        return f\"{self.parent_node.character if self.parent_node else 'root'} ==> {self.character} ==> {' '.join(list(self.childrens.keys()))}\"\n",
    "    \n",
    "    def insert(self, word):\n",
    "        if word and len(word) > 0:\n",
    "            first_letter = word[0]\n",
    "            if self.childrens.get(first_letter) is None:\n",
    "                self.childrens[first_letter] = TrieNode(first_letter, self)\n",
    "            self.childrens[first_letter].insert(word[1:])\n",
    "        else:\n",
    "            self.finished = True\n",
    "    \n",
    "    def get_node(self, key):\n",
    "        if key and len(key) > 0 and self.childrens.get(key[0]):\n",
    "            return self.childrens[key[0]].get_node(key[1:])\n",
    "        return self\n",
    "    \n",
    "    @property\n",
    "    def word(self):\n",
    "        ptr = self.parent_node\n",
    "        word = [self.character]\n",
    "        while ptr != None:\n",
    "            word.append(ptr.character)\n",
    "            ptr = ptr.parent_node\n",
    "        return ''.join(word[::-1])\n",
    "    \n",
    "    def get_words(self):\n",
    "        words = []\n",
    "        for key, item in self.childrens.items():\n",
    "            words += item.get_words()\n",
    "            \n",
    "        if self.finished:\n",
    "            words.append(self.word)\n",
    "        return words"
   ]
  },
  {
   "cell_type": "code",
   "execution_count": 128,
   "metadata": {},
   "outputs": [],
   "source": [
    "class Trie:\n",
    "    def __init__(self):\n",
    "        self.childrens = {}\n",
    "    \n",
    "    def __repr__(self):\n",
    "        return f\"{' '.join(list(self.childrens.keys()))}\"\n",
    "    \n",
    "    def insert(self, word):\n",
    "        if word and len(word) > 0:\n",
    "            first_letter = word[0]\n",
    "            if self.childrens.get(first_letter) is None:\n",
    "                self.childrens[first_letter] = TrieNode(first_letter)\n",
    "            self.childrens[first_letter].insert(word[1:])\n",
    "        \n",
    "    def get_node(self, key):\n",
    "        if key and len(key) > 0 and self.childrens.get(key[0]):\n",
    "            return self.childrens[key[0]].get_node(key[1:])\n",
    "        return None\n",
    "    \n",
    "    def add_paragraph(self, paragraph):\n",
    "        for t in sent_tokenize(paragraph):\n",
    "            for w in t.split():\n",
    "                self.insert(w.lower())"
   ]
  },
  {
   "cell_type": "code",
   "execution_count": 129,
   "metadata": {},
   "outputs": [
    {
     "data": {
      "text/plain": [
       "r s p o w t a b f 9 h c u l n d i 1 v m j g e 4 k y - \" $ 7 8"
      ]
     },
     "execution_count": 129,
     "metadata": {},
     "output_type": "execute_result"
    }
   ],
   "source": [
    "t = Trie()\n",
    "t.add_paragraph(paragraph)\n",
    "t"
   ]
  },
  {
   "cell_type": "code",
   "execution_count": 132,
   "metadata": {},
   "outputs": [
    {
     "data": {
      "text/plain": [
       "r ==> e ==> p s a q"
      ]
     },
     "execution_count": 132,
     "metadata": {},
     "output_type": "execute_result"
    }
   ],
   "source": [
    "item = t.get_node('re')\n",
    "item"
   ]
  },
  {
   "cell_type": "code",
   "execution_count": 133,
   "metadata": {},
   "outputs": [
    {
     "data": {
      "text/plain": [
       "['republican', \"responders'\", 'response', 'reassurances', 'requested']"
      ]
     },
     "execution_count": 133,
     "metadata": {},
     "output_type": "execute_result"
    }
   ],
   "source": [
    "item.get_words()"
   ]
  }
 ],
 "metadata": {
  "kernelspec": {
   "display_name": "Python 3",
   "language": "python",
   "name": "python3"
  },
  "language_info": {
   "codemirror_mode": {
    "name": "ipython",
    "version": 3
   },
   "file_extension": ".py",
   "mimetype": "text/x-python",
   "name": "python",
   "nbconvert_exporter": "python",
   "pygments_lexer": "ipython3",
   "version": "3.7.3"
  }
 },
 "nbformat": 4,
 "nbformat_minor": 2
}
