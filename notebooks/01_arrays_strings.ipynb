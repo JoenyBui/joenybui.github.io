{
 "cells": [
  {
   "cell_type": "code",
   "execution_count": 33,
   "metadata": {},
   "outputs": [],
   "source": [
    "import pytest"
   ]
  },
  {
   "cell_type": "markdown",
   "metadata": {},
   "source": [
    "## 1.1 \n",
    "### Implement an algorithm to determine if a string has all unique characters.  "
   ]
  },
  {
   "cell_type": "code",
   "execution_count": 34,
   "metadata": {
    "collapsed": true
   },
   "outputs": [],
   "source": [
    "# brainstorm\n",
    "# create a hash table and add it to it\n",
    "# does case-sensitive count\n",
    "\n",
    "def unique_character(string):\n",
    "    if len(string) <= 1:\n",
    "        return True\n",
    "    \n",
    "    t = {}\n",
    "    for s in string:\n",
    "        if t.get(s):\n",
    "            return False\n",
    "\n",
    "        t[s] = 1\n",
    "            \n",
    "    return True\n",
    "\n",
    "\n",
    "# let's write test case\n",
    "assert unique_character(\"1$cFg~_\") == True\n",
    "assert unique_character(\"\") == True\n",
    "assert unique_character(\"T\") == True\n",
    "assert unique_character(\"TT\") == False"
   ]
  },
  {
   "cell_type": "markdown",
   "metadata": {},
   "source": [
    "### What if you can not use additional data structures?"
   ]
  },
  {
   "cell_type": "code",
   "execution_count": 32,
   "metadata": {},
   "outputs": [],
   "source": [
    "# brainstorm\n",
    "# you can sort it and then compare prev with next\n",
    "# can you use a temp variable?\n",
    "# are we optimize for speed or storage?\n",
    "def unique_character_sort(string):\n",
    "    if len(string) <= 1:\n",
    "        return True\n",
    "    \n",
    "    string = list(string)\n",
    "    for i in range(1, len(string)):\n",
    "        prev = ord(string[i-1])\n",
    "        curr = ord(string[i])\n",
    "        if prev > curr:\n",
    "            temp = string[i-1]\n",
    "            string[i-1] = string[i]\n",
    "            string[i] = temp\n",
    "\n",
    "    sorted_string = ''.join(string)\n",
    "\n",
    "    for j in range(1, len(sorted_string)):\n",
    "        if sorted_string[j-1] == sorted_string[j]: return False\n",
    "\n",
    "    return True\n",
    "        \n",
    "\n",
    "# let's write test case\n",
    "assert unique_character_sort(\"1$cFg~_\") == True\n",
    "assert unique_character_sort(\"\") == True\n",
    "assert unique_character_sort(\"T\") == True\n",
    "assert unique_character_sort(\"TT\") == False"
   ]
  },
  {
   "cell_type": "markdown",
   "metadata": {},
   "source": [
    "## 1.2 \n",
    "### Write code to reverse a C-Style String (\"abcd\" is five characters, including the null character)"
   ]
  },
  {
   "cell_type": "code",
   "execution_count": 84,
   "metadata": {},
   "outputs": [],
   "source": [
    "'''\n",
    "A C style string has a null value at the end, so you always need one over the amount of character:\n",
    "\n",
    "    char* name =\"Joeny\\n\"\n",
    "    \n",
    "Do we need to keep in one data structure? \n",
    "Can you use a temp value?\n",
    "Can we assume that it will be a clean string?  That it will always have a null value at the end.\n",
    "\n",
    "'''\n",
    "def reverse_c_string(string):\n",
    "    if len(string) <= 1:\n",
    "        return string\n",
    "    \n",
    "    values = list(name)\n",
    "    length = len(name)\n",
    "    for h in range(0, length-1):\n",
    "        for i in range(0, length-h-1):\n",
    "            temp = values[i]\n",
    "            values[i] = values[i+1]\n",
    "            values[i+1] = temp\n",
    "    return \"\".join(values)\n",
    "\n",
    "assert reverse_c_string(\"\") == \"\"\n",
    "assert reverse_c_string(\"f\") == \"f\"\n",
    "assert reverse_c_string(\"Joeny&\") == \"&yneoJ\""
   ]
  },
  {
   "cell_type": "markdown",
   "metadata": {},
   "source": [
    "## 1.3 \n",
    "### Design an algorithm and write code to remove the duplicate characters in a string without using any additional buffer.  \n",
    "\n",
    "*NOTE: One or two additional variables are fine.  An extra copy of the array is not.*"
   ]
  },
  {
   "cell_type": "code",
   "execution_count": null,
   "metadata": {
    "collapsed": true
   },
   "outputs": [],
   "source": []
  },
  {
   "cell_type": "markdown",
   "metadata": {},
   "source": [
    "## 1.4 \n",
    "### Write a method to decide if two strings are anagrams or not"
   ]
  },
  {
   "cell_type": "code",
   "execution_count": null,
   "metadata": {
    "collapsed": true
   },
   "outputs": [],
   "source": []
  },
  {
   "cell_type": "markdown",
   "metadata": {},
   "source": [
    "## 1.5 \n",
    "### Write a method to replace all spaces in a string with ‘%20’"
   ]
  },
  {
   "cell_type": "code",
   "execution_count": null,
   "metadata": {
    "collapsed": true
   },
   "outputs": [],
   "source": []
  },
  {
   "cell_type": "markdown",
   "metadata": {},
   "source": [
    "## 1.6 \n",
    "### Given an image represented by an NxN matrix, where each pixel in the image is 4 bytes, write a method to rotate the image by 90 degrees Can you do this in place?"
   ]
  },
  {
   "cell_type": "code",
   "execution_count": null,
   "metadata": {
    "collapsed": true
   },
   "outputs": [],
   "source": []
  },
  {
   "cell_type": "markdown",
   "metadata": {},
   "source": [
    "## 1.7  \n",
    "### Write an algorithm such that if an element in an MxN matrix is 0, its entire row and column is set to 0"
   ]
  },
  {
   "cell_type": "code",
   "execution_count": null,
   "metadata": {
    "collapsed": true
   },
   "outputs": [],
   "source": []
  },
  {
   "cell_type": "markdown",
   "metadata": {},
   "source": [
    "## 1.8  \n",
    "### Assume you have a method isSubstring which checks if one word is a substring of another Given two strings, s1 and s2, write code to check if s2 is a rotation of s1 using only one call to isSubstring (i e , “waterbottle” is a rotation of “erbottlewat”)"
   ]
  },
  {
   "cell_type": "code",
   "execution_count": null,
   "metadata": {
    "collapsed": true
   },
   "outputs": [],
   "source": []
  }
 ],
 "metadata": {
  "kernelspec": {
   "display_name": "Python 3",
   "language": "python",
   "name": "python3"
  },
  "language_info": {
   "codemirror_mode": {
    "name": "ipython",
    "version": 3
   },
   "file_extension": ".py",
   "mimetype": "text/x-python",
   "name": "python",
   "nbconvert_exporter": "python",
   "pygments_lexer": "ipython3",
   "version": "3.7.3"
  }
 },
 "nbformat": 4,
 "nbformat_minor": 2
}
