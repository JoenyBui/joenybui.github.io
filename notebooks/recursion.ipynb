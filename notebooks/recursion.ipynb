{
 "cells": [
  {
   "cell_type": "markdown",
   "metadata": {},
   "source": [
    "81 Write a method to generate the nth Fibonacci number ________________________________________________________________pg 169\n",
    "82 Imagine a robot sitting on the upper left hand corner of an NxN grid The robot can only move in two directions: right and down How many possible paths are there for the robot?\n",
    "FOLLOW UP\n",
    "Imagine certain squares are “off limits”, such that the robot can not step on them Design an algorithm to get all possible paths for the robot ________________________________________________________________pg 170\n",
    "83 Write a method that returns all subsets of a set ________________________________________________________________pg 171\n",
    "84 Write a method to compute all permutations of a string ________________________________________________________________pg 173\n",
    "85 Implement an algorithm to print all valid (e g , properly opened and closed) combi- nations of n-pairs of parentheses\n",
    "EXAMPLE:\n",
    "input: 3 (e g , 3 pairs of parentheses)\n",
    "output: ()()(), ()(()), (())(), ((()))\n",
    "________________________________________________________________pg 174\n",
    "86 Implement the “paint fill” function that one might see on many image editing pro- grams That is, given a screen (represented by a 2 dimensional array of Colors), a point, and a new color, fill in the surrounding area until you hit a border of that col- or’\n",
    "________________________________________________________________pg 175\n",
    "87 Given an infinite number of quarters (25 cents), dimes (10 cents), nickels (5 cents) and pennies (1 cent), write code to calculate the number of ways of representing n cents ________________________________________________________________pg 176\n",
    "88 Write an algorithm to print all ways of arranging eight queens on a chess board so that none of them share the same row, column or diagonal\n",
    "________________________________________________________________pg 177"
   ]
  }
 ],
 "metadata": {
  "kernelspec": {
   "display_name": "Python 3",
   "language": "python",
   "name": "python3"
  },
  "language_info": {
   "codemirror_mode": {
    "name": "ipython",
    "version": 3
   },
   "file_extension": ".py",
   "mimetype": "text/x-python",
   "name": "python",
   "nbconvert_exporter": "python",
   "pygments_lexer": "ipython3",
   "version": "3.7.3"
  }
 },
 "nbformat": 4,
 "nbformat_minor": 2
}
