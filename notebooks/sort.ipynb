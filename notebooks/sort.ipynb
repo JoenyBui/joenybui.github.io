{
 "cells": [
  {
   "cell_type": "markdown",
   "metadata": {},
   "source": [
    "# Sort"
   ]
  },
  {
   "cell_type": "markdown",
   "metadata": {},
   "source": [
    "## QuickSort\n",
    "\n",
    "Quicksort is a Divide and Conquer algorithm.  It picks an element as a pivo and partiitons that given array around the picked pivot.\n",
    "\n",
    "1. Always pick first element as pivot\n",
    "2. Always pick last element as pivot\n",
    "3. Pick a random element as pivot\n",
    "4. Pick median as pivot\n",
    "\n",
    "The key is **partition**.\n",
    "\n",
    "Target of partitions is\n",
    "\n",
    "- given an array and an element x of array as pivot\n",
    "- put x at its correct position in sorted array \n",
    "- put all smaller elements (smaller than x) before x\n",
    "- and put all greater elements (greater than x) after x. \n",
    "\n",
    "All this should be done in linear time.\n",
    "\n",
    "![Quick Sort](https://www.geeksforgeeks.org/wp-content/uploads/gq/2014/01/QuickSort2.png)"
   ]
  },
  {
   "cell_type": "markdown",
   "metadata": {},
   "source": [
    "## Output\n",
    "\n",
    "```\n",
    "r[] = {10, 80, 30, 90, 40, 50, 70}\n",
    "Indexes:  0   1   2   3   4   5   6 \n",
    "\n",
    "low = 0, high =  6, pivot = arr[h] = 70\n",
    "Initialize index of smaller element, i = -1\n",
    "\n",
    "Traverse elements from j = low to high-1\n",
    "j = 0 : Since arr[j] <= pivot, do i++ and swap(arr[i], arr[j])\n",
    "i = 0 \n",
    "arr[] = {10, 80, 30, 90, 40, 50, 70} // No change as i and j \n",
    "                                     // are same\n",
    "\n",
    "j = 1 : Since arr[j] > pivot, do nothing\n",
    "// No change in i and arr[]\n",
    "\n",
    "j = 2 : Since arr[j] <= pivot, do i++ and swap(arr[i], arr[j])\n",
    "i = 1\n",
    "arr[] = {10, 30, 80, 90, 40, 50, 70} // We swap 80 and 30 \n",
    "\n",
    "j = 3 : Since arr[j] > pivot, do nothing\n",
    "// No change in i and arr[]\n",
    "\n",
    "j = 4 : Since arr[j] <= pivot, do i++ and swap(arr[i], arr[j])\n",
    "i = 2\n",
    "arr[] = {10, 30, 40, 90, 80, 50, 70} // 80 and 40 Swapped\n",
    "j = 5 : Since arr[j] <= pivot, do i++ and swap arr[i] with arr[j] \n",
    "i = 3 \n",
    "arr[] = {10, 30, 40, 50, 80, 90, 70} // 90 and 50 Swapped \n",
    "\n",
    "We come out of loop because j is now equal to high-1.\n",
    "Finally we place pivot at correct position by swapping\n",
    "arr[i+1] and arr[high] (or pivot) \n",
    "arr[] = {10, 30, 40, 50, 70, 90, 80} // 80 and 70 Swapped \n",
    "\n",
    "Now 70 is at its correct place. All elements smaller than\n",
    "70 are before it and all elements greater than 70 are after\n",
    "it.\n",
    "```"
   ]
  },
  {
   "cell_type": "code",
   "execution_count": 42,
   "metadata": {},
   "outputs": [
    {
     "name": "stdout",
     "output_type": "stream",
     "text": [
      "Begins [10, 80, 30, 90, 40, 50] Pivot 70\n",
      "Ends [10, 30, 40, 50, 80, 90] Pivot 70\n",
      "Begins [10, 30, 40] Pivot 50\n",
      "Ends [10, 30, 40] Pivot 50\n",
      "Begins [10, 30] Pivot 40\n",
      "Ends [10, 30] Pivot 40\n",
      "Begins [10] Pivot 30\n",
      "Ends [10] Pivot 30\n",
      "Begins [90] Pivot 80\n",
      "Ends [90] Pivot 80\n"
     ]
    }
   ],
   "source": [
    "testArrayInput = [10, 80, 30, 90, 40, 50, 70]\n",
    "low = 0\n",
    "high = len(testArrayInput)-1\n",
    "\n",
    "def partition(arr, low, high):\n",
    "    # shift the array as needed based off the pivot point (use last\n",
    "    # return the pivot\n",
    "    i = (low-1)\n",
    "    pivot = arr[high]\n",
    "\n",
    "    print(f\"Begins {arr[low: high]} Pivot {pivot}\")\n",
    "\n",
    "    for j in range(low, high):\n",
    "        if (arr[j] <= pivot):\n",
    "            i += 1\n",
    "            arr[i], arr[j] = arr[j], arr[i]\n",
    "    \n",
    "\n",
    "    print(f\"Ends {arr[low: high]} Pivot {pivot}\")\n",
    "    arr[i+1], arr[high] = arr[high], arr[i+1]\n",
    "\n",
    "    return (i+1)\n",
    "\n",
    "def quick_sort(arr, low, high):\n",
    "    if low < high:\n",
    "        pi = partition(arr, low, high)\n",
    "\n",
    "        quick_sort(arr, low, pi-1)\n",
    "        quick_sort(arr, pi+1, high)\n",
    "    \n",
    "quick_sort(testArrayInput, low, high)\n",
    "\n",
    "# testArrayInput"
   ]
  },
  {
   "cell_type": "markdown",
   "metadata": {},
   "source": [
    "## Mergesort\n",
    "\n",
    "Divide and Conquer algorithm.  It divides the two halves and the merges the two sorted halves.  \n",
    "\n",
    "```pseudocode\n",
    "if r > 1\n",
    "    1. find the middle point to divide the array into two halves\n",
    "        middle m = (l+r)/2\n",
    "    2. call mergesort for the two halves:\n",
    "        mergesort(arr, 1, m)\n",
    "        mergesort(arr, m+1, r)\n",
    "    3. merge the two havles sorted\n",
    "        merge (arr, l, m, r)\n",
    "```\n",
    "\n",
    "![Merge Sort](https://www.geeksforgeeks.org/wp-content/uploads/Merge-Sort-Tutorial.png)\n"
   ]
  },
  {
   "cell_type": "code",
   "execution_count": 17,
   "metadata": {},
   "outputs": [
    {
     "name": "stdout",
     "output_type": "stream",
     "text": [
      "[5, 6, 7, 11, 12, 13]\n"
     ]
    }
   ],
   "source": [
    "testArrayInput = [12, 11, 13, 5, 6, 7]\n",
    "        \n",
    "def merge_sort(arr):\n",
    "    if len(arr) > 1:\n",
    "        mid = len(arr)//2\n",
    "        L = arr[:mid]\n",
    "        R = arr[mid:]\n",
    "        \n",
    "        merge_sort(L)\n",
    "        merge_sort(R)\n",
    "        \n",
    "        low_index = 0\n",
    "        high_index = 0\n",
    "        i = 0\n",
    "        \n",
    "        while (low_index < len(L) and high_index < len(R)):\n",
    "            if L[low_index] < R[high_index]:\n",
    "                arr[i] = L[low_index]\n",
    "                low_index += 1\n",
    "            else:\n",
    "                arr[i] = R[high_index]\n",
    "                high_index += 1\n",
    "            i += 1\n",
    "\n",
    "        while low_index < len(L):\n",
    "            arr[i] = L[low_index]\n",
    "            i += 1\n",
    "            low_index += 1\n",
    "\n",
    "        while high_index < len(R):\n",
    "            arr[i] = R[high_index]\n",
    "            i += 1\n",
    "            high_index += 1\n",
    "\n",
    "        \n",
    "merge_sort(testArrayInput)\n",
    "print(testArrayInput)"
   ]
  },
  {
   "cell_type": "code",
   "execution_count": null,
   "metadata": {},
   "outputs": [],
   "source": []
  },
  {
   "cell_type": "code",
   "execution_count": null,
   "metadata": {},
   "outputs": [],
   "source": []
  }
 ],
 "metadata": {
  "kernelspec": {
   "display_name": "Python 3",
   "language": "python",
   "name": "python3"
  },
  "language_info": {
   "codemirror_mode": {
    "name": "ipython",
    "version": 3
   },
   "file_extension": ".py",
   "mimetype": "text/x-python",
   "name": "python",
   "nbconvert_exporter": "python",
   "pygments_lexer": "ipython3",
   "version": "3.7.3"
  }
 },
 "nbformat": 4,
 "nbformat_minor": 2
}
