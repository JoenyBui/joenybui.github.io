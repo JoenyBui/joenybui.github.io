{
 "cells": [
  {
   "cell_type": "code",
   "execution_count": null,
   "metadata": {},
   "outputs": [],
   "source": [
    "class LinkedList:\n",
    "    first_link = None\n",
    "    \n",
    "    def __init__(self, first):\n",
    "        self.first_link = first\n",
    "        \n",
    "    def __repr__(self):\n",
    "        return f\"{self.first_link}\"\n",
    "    \n",
    "    def count(self):\n",
    "        item = self.first_link\n",
    "        \n",
    "        c = 0\n",
    "        stay = True\n",
    "        while (item.next_link != None and stay):\n",
    "            c += 1\n",
    "            print(item)\n",
    "            # check for circular linked list\n",
    "            if item.next_link == self.first_link:\n",
    "                c += 1\n",
    "                stay = False\n",
    "            else:\n",
    "                item = item.next_link\n",
    "            \n",
    "        return c\n",
    "    \n",
    "class Linked:\n",
    "    next_link = None\n",
    "    prev_link = None\n",
    "    value = None\n",
    "    \n",
    "    def __init__(self, value, prev_link=None):\n",
    "        self.value = value\n",
    "        self.prev_link = prev_link\n",
    "        \n",
    "        if self.prev_link:\n",
    "            self.prev_link.next_link = self\n",
    "            \n",
    "    def __repr__(self):\n",
    "        return f\"{self.prev_link}->{self.value}\""
   ]
  },
  {
   "cell_type": "code",
   "execution_count": null,
   "metadata": {},
   "outputs": [],
   "source": [
    "import pytest"
   ]
  },
  {
   "cell_type": "markdown",
   "metadata": {},
   "source": [
    "## 2.1 \n",
    "### Write code to remove duplicates from an unsorted linked list "
   ]
  },
  {
   "cell_type": "code",
   "execution_count": null,
   "metadata": {},
   "outputs": [],
   "source": [
    "# Duplicate Address? or Duplicate Value?\n",
    "# Pseudocode: Traverse through the list and see if the values are the same, and then add\n",
    "\n",
    "A = Linked(\"A\")\n",
    "B = Linked(\"B\")\n",
    "C = Linked(\"C\")\n",
    "D = Linked(\"D\")\n",
    "\n",
    "A.next_link = B\n",
    "B.next_link = C\n",
    "C.next_link = D\n",
    "D.next_link = B # now a ciruclar linked list (so this linked should be remove)\n",
    "\n",
    "\n",
    "def remove_duplicate_list(ll):\n",
    "    # assume it's one way\n",
    "    new_ll = LinkedList(None)\n",
    "    \n",
    "    return ll.count()\n",
    "\n",
    "assert remove_duplicate_list(LinkedList(A)) == 4"
   ]
  },
  {
   "cell_type": "markdown",
   "metadata": {},
   "source": [
    "### How would you solve this problem if a temporary buffer is not allowed?"
   ]
  },
  {
   "cell_type": "code",
   "execution_count": null,
   "metadata": {},
   "outputs": [],
   "source": []
  },
  {
   "cell_type": "markdown",
   "metadata": {},
   "source": [
    "## 2.2 \n",
    "### Implement an algorithm to find the nth to last element of a singly linked list \n"
   ]
  },
  {
   "cell_type": "code",
   "execution_count": null,
   "metadata": {},
   "outputs": [],
   "source": []
  },
  {
   "cell_type": "markdown",
   "metadata": {},
   "source": [
    "## 2.3 \n",
    "### Implement an algorithm to delete a node in the middle of a single linked list, given only access to that node\n",
    "EXAMPLE\n",
    "Input: the node ‘c’ from the linked list a->b->c->d->e\n",
    "Result: nothing is returned, but the new linked list looks like a->b->d->e\n"
   ]
  },
  {
   "cell_type": "code",
   "execution_count": null,
   "metadata": {},
   "outputs": [],
   "source": []
  },
  {
   "cell_type": "markdown",
   "metadata": {},
   "source": [
    "## 2.4 \n",
    "### You have two numbers represented by a linked list, where each node contains a sin- gle digit The digits are stored in reverse order, such that the 1’s digit is at the head of the list Write a function that adds the two numbers and returns the sum as a linked list\n",
    "EXAMPLE\n",
    "Input: (3 -> 1 -> 5) + (5 -> 9 -> 2)\n",
    "Output: 8 -> 0 -> 8"
   ]
  },
  {
   "cell_type": "code",
   "execution_count": null,
   "metadata": {},
   "outputs": [],
   "source": []
  },
  {
   "cell_type": "markdown",
   "metadata": {},
   "source": [
    "## 2.5 \n",
    "### Given a circular linked list, implement an algorithm which returns node at the begin- ning of the loop\n",
    "DEFINITION\n",
    "Circular linked list: A (corrupt) linked list in which a node’s next pointer points to an earlier node, so as to make a loop in the linked list\n",
    "EXAMPLE\n",
    "input: A -> B -> C -> D -> E -> C [the same C as earlier]\n",
    "output: C \n"
   ]
  },
  {
   "cell_type": "code",
   "execution_count": null,
   "metadata": {},
   "outputs": [],
   "source": []
  }
 ],
 "metadata": {
  "kernelspec": {
   "display_name": "Python 3",
   "language": "python",
   "name": "python3"
  },
  "language_info": {
   "codemirror_mode": {
    "name": "ipython",
    "version": 3
   },
   "file_extension": ".py",
   "mimetype": "text/x-python",
   "name": "python",
   "nbconvert_exporter": "python",
   "pygments_lexer": "ipython3",
   "version": "3.7.3"
  }
 },
 "nbformat": 4,
 "nbformat_minor": 2
}
