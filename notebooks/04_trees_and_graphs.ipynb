{
 "cells": [
  {
   "cell_type": "markdown",
   "metadata": {},
   "source": [
    "## Notes\n",
    "\n",
    "### Binary Search Tree\n",
    "\n",
    "A node-based binary tree data structure which has the following properties:\n",
    "\n",
    "* left subtree of a node contains only nodes with keys lesser than the node key\n",
    "* right subtree of a node contains only nodes with keys greater than the node's key\n",
    "* left and right subtree each must also be a binary search tree\n",
    "\n",
    "![Binary Search Tree](https://media.geeksforgeeks.org/wp-content/uploads/BSTSearch.png)\n",
    "\n",
    "#### Some interesting facts\n",
    "\n",
    "* Inorder traversal of BST always produces sorted output."
   ]
  },
  {
   "cell_type": "markdown",
   "metadata": {},
   "source": [
    "![Single](https://runestone.academy/runestone/books/published/pythonds/_images/bstdel1.png)\n",
    "![One Leaf](https://runestone.academy/runestone/books/published/pythonds/_images/bstdel2.png)\n",
    "![Shift]()"
   ]
  },
  {
   "cell_type": "code",
   "execution_count": 92,
   "metadata": {},
   "outputs": [],
   "source": [
    "class Node:\n",
    "    \"\"\"\n",
    "    Driver program to test the above functions \n",
    "    Let us create the following BST \n",
    "          50 \n",
    "        /    \\ \n",
    "       30     70 \n",
    "       / \\    / \\ \n",
    "      20 40  60 80 \n",
    "    \"\"\"\n",
    "    def __init__(self, key, payload=None, left=None, right=None, parent=None):\n",
    "        self.key = key\n",
    "        self.payload = payload\n",
    "        self.left = left\n",
    "        self.right = right\n",
    "        self.parent = parent\n",
    "\n",
    "    def __repr__(self):\n",
    "        return f\"Node {self.key}\"\n",
    "        \n",
    "    def hasLeftChild(self):\n",
    "        return self.leftChild\n",
    "\n",
    "    def hasRightChild(self):\n",
    "        return self.rightChild\n",
    "\n",
    "    def isLeftChild(self):\n",
    "        return self.parent and self.parent.leftChild == self\n",
    "\n",
    "    def isRightChild(self):\n",
    "        return self.parent and self.parent.rightChild == self\n",
    "\n",
    "    def isRoot(self):\n",
    "        return not self.parent\n",
    "\n",
    "    def isLeaf(self):\n",
    "        return not (self.rightChild or self.leftChild)\n",
    "\n",
    "    def hasAnyChildren(self):\n",
    "        return self.rightChild or self.leftChild\n",
    "\n",
    "    def hasBothChildren(self):\n",
    "        return self.rightChild and self.leftChild\n",
    "\n",
    "    def replaceNodeData(self,key,value,lc,rc):\n",
    "        self.key = key\n",
    "        self.payload = value\n",
    "        self.leftChild = lc\n",
    "        self.rightChild = rc\n",
    "        if self.hasLeftChild():\n",
    "            self.leftChild.parent = self\n",
    "        if self.hasRightChild():\n",
    "            self.rightChild.parent = self\n",
    "        \n",
    "    def find_successor(self):\n",
    "        succ = None\n",
    "        if self.hasRightChild():\n",
    "            succ = self.rightChild.findMin()\n",
    "        else:\n",
    "            if self.parent:\n",
    "                if self.ifLeftChild():\n",
    "                    succ = self.parent\n",
    "                else:\n",
    "                    self.parent.rightChild = None\n",
    "                    succ = self.parent.findSuccessor()\n",
    "                    self.parent.rightChild = self\n",
    "        return succ\n",
    "    \n",
    "    def findMin(self):\n",
    "        current = self\n",
    "        while current.hasLeftChild():\n",
    "            current = current.leftChild\n",
    "        return current\n",
    "    \n",
    "    def find_max(self):\n",
    "        current = self\n",
    "        while current.hasRightChild():\n",
    "            current = current.rightChild\n",
    "        return current\n",
    "    \n",
    "    def splicOut(self):\n",
    "        if self.isLeaf():\n",
    "            if self.isLeftChild():\n",
    "                self.parent.leftChild = None\n",
    "            else:\n",
    "                self.parent.rightChild = None\n",
    "        elif self.hasAnyChildren():\n",
    "            if self.hasLeftChild():\n",
    "                if self.isLeftChild():\n",
    "                    self.parent.leftChild = self.leftChild\n",
    "                else:\n",
    "                    self.parent.rightChild = self.leftChild\n",
    "                self.leftChild.parent = self.parent\n",
    "            else:\n",
    "                if self.isLeftChild():\n",
    "                    self.parent.leftChild = self.rightChild\n",
    "                else:\n",
    "                    self.parent.rightChild = self.rightChild\n",
    "                self.rightChild.parent = self.parent\n",
    "            \n",
    "    @staticmethod\n",
    "    def insert(root, node):\n",
    "        if root is None:\n",
    "            root = node\n",
    "        else:\n",
    "            # if root is less than node\n",
    "            if root.key < node.key:\n",
    "                if root.right is None:\n",
    "                    root.right = node\n",
    "                else:\n",
    "                    Node.insert(root.right, node)\n",
    "            else:\n",
    "                if root.left is None:\n",
    "                    root.left = node\n",
    "                else:\n",
    "                    Node.insert(root.left, node)\n",
    "                    \n",
    "    @staticmethod\n",
    "    def search(root, key):\n",
    "        if root is None or root.key == key:\n",
    "            return root\n",
    "        \n",
    "        if root.key < key:\n",
    "            return Node.search(root.right, key)\n",
    "        \n",
    "        if root.key > key:\n",
    "            return Node.search(root.left, key)\n",
    "        \n",
    "    @staticmethod\n",
    "    def inorder(root):\n",
    "        if root:\n",
    "            Node.inorder(root.left)\n",
    "            print(root.key)\n",
    "            Node.inorder(root.right)\n",
    "\n",
    "    @staticmethod\n",
    "    def max_depth(root):\n",
    "        if root:\n",
    "            return 1 + max(Node.max_depth(root.left), Node.max_depth(root.right))\n",
    "        else:\n",
    "            return 0\n",
    "    \n",
    "    @staticmethod\n",
    "    def min_depth(root):\n",
    "        if root:\n",
    "            return 1 + min(Node.min_depth(root.left), Node.min_depth(root.right))\n",
    "        else:\n",
    "            return 0\n",
    "    \n",
    "class BST:\n",
    "    \"\"\"\n",
    "    Binary Search Tree\n",
    "    \"\"\"\n",
    "    def __init__(self, key=None, value=None):\n",
    "        self.root = Node(key, value) if key else None\n",
    "        self.size = 1 if key else 0\n",
    "        \n",
    "    def length(self):\n",
    "        return self.size\n",
    "        \n",
    "    def __len__(self):\n",
    "        return self.length\n",
    "    \n",
    "    def __setitem__(self, key, value):\n",
    "        self.insert(key, value)\n",
    "        \n",
    "    def __contains__(self, key):\n",
    "        if self.search(key):\n",
    "            return True\n",
    "        else:\n",
    "            return False\n",
    "        \n",
    "    def inorder(self):\n",
    "        Node.inorder(self.root)\n",
    "\n",
    "    def insert(self, key, value=None):\n",
    "        if self.root is None:\n",
    "            self.root = Node(key, value)\n",
    "        else:\n",
    "            Node.insert(self.root, Node(key, value))\n",
    "            \n",
    "        self.size += 1\n",
    "    \n",
    "    def inserts(self, array):\n",
    "        for a in array:\n",
    "            self.insert(a)\n",
    "            \n",
    "    def search(self, key):\n",
    "        return Node.search(self.root, key)\n",
    "    \n",
    "    @property\n",
    "    def max_depth(self):\n",
    "        return Node.max_depth(self.root)\n",
    "    \n",
    "    @property\n",
    "    def min_depth(self):\n",
    "        return Node.min_depth(self.root)\n",
    "    \n",
    "    def is_balanced(self):\n",
    "        return (self.max_depth - self.min_depth <= 1)"
   ]
  },
  {
   "cell_type": "code",
   "execution_count": 95,
   "metadata": {},
   "outputs": [
    {
     "name": "stdout",
     "output_type": "stream",
     "text": [
      "20\n",
      "30\n",
      "40\n",
      "50\n",
      "60\n",
      "70\n",
      "80\n",
      "90\n",
      "100\n",
      "110\n"
     ]
    },
    {
     "data": {
      "text/plain": [
       "3"
      ]
     },
     "execution_count": 95,
     "metadata": {},
     "output_type": "execute_result"
    }
   ],
   "source": [
    "tree = BST(50)\n",
    "tree.inserts([30, 20, 40, 70, 60, 80, 90, 100, 110])\n",
    "tree.inorder()\n",
    "tree.min_depth"
   ]
  },
  {
   "cell_type": "code",
   "execution_count": 96,
   "metadata": {},
   "outputs": [
    {
     "data": {
      "text/plain": [
       "6"
      ]
     },
     "execution_count": 96,
     "metadata": {},
     "output_type": "execute_result"
    }
   ],
   "source": [
    "tree.max_depth"
   ]
  },
  {
   "cell_type": "markdown",
   "metadata": {},
   "source": [
    "## 4.1 \n",
    "### Implement a function to check if a tree is balanced.  For the purposes of this question, a balanced tree is defined to be a tree such that no two leaf nodes differ in distance from the root by more than one"
   ]
  },
  {
   "cell_type": "markdown",
   "metadata": {},
   "source": [
    "need to check if the level is out of sync, min depth and max depth should not exceed 1 - since the different of them in and max depth is the maximum distance diference possible"
   ]
  },
  {
   "cell_type": "code",
   "execution_count": 98,
   "metadata": {},
   "outputs": [
    {
     "data": {
      "text/plain": [
       "False"
      ]
     },
     "execution_count": 98,
     "metadata": {},
     "output_type": "execute_result"
    }
   ],
   "source": [
    "tree.is_balanced()"
   ]
  },
  {
   "cell_type": "markdown",
   "metadata": {},
   "source": [
    "## 4.2 \n",
    "### Given a directed graph, design an algorithm to find out whether there is a route between two nodes"
   ]
  },
  {
   "cell_type": "markdown",
   "metadata": {},
   "source": [
    "Traverse through a graph and check if the node exist - make sure you mark a node as visited to ensure that it is not circular."
   ]
  },
  {
   "cell_type": "markdown",
   "metadata": {},
   "source": [
    "## 4.3 \n",
    "### Given a sorted (increasing order) array, write an algorithm to create a binary tree with minimal height"
   ]
  },
  {
   "cell_type": "markdown",
   "metadata": {},
   "source": [
    "1. Just get the middle array and use it as root. \n",
    "2. Split left and right, and get the middle of that as root.  \n",
    "3. Repeat\n"
   ]
  },
  {
   "cell_type": "markdown",
   "metadata": {},
   "source": [
    "## 4.4 \n",
    "### Given a binary search tree, design an algorithm which creates a linked list of all the nodes at each depth (i e , if you have a tree with depth D, you’ll have D linked lists)"
   ]
  },
  {
   "cell_type": "markdown",
   "metadata": {},
   "source": [
    "breadth first search\n",
    "1. traverse down to the depth\n",
    "2. store it\n",
    "3. link it"
   ]
  },
  {
   "cell_type": "markdown",
   "metadata": {},
   "source": [
    "## 4.5 \n",
    "### Write an algorithm to find the ‘next’ node (i e , in-order successor) of a given node in a binary search tree where each node has a link to its parent"
   ]
  },
  {
   "cell_type": "code",
   "execution_count": null,
   "metadata": {},
   "outputs": [],
   "source": []
  },
  {
   "cell_type": "markdown",
   "metadata": {},
   "source": [
    "## 4.6 \n",
    "### Design an algorithm and write code to find the first common ancestor of two nodes in a binary tree.  Avoid storing additional nodes in a data structure NOTE: This is not necessarily a binary search tree "
   ]
  },
  {
   "cell_type": "code",
   "execution_count": null,
   "metadata": {},
   "outputs": [],
   "source": []
  },
  {
   "cell_type": "markdown",
   "metadata": {},
   "source": [
    "## 4.7 \n",
    "### You have two very large binary trees: T1, with millions of nodes, and T2, with hundreds of nodes. Create an algorithm to decide if T2 is a subtree of T1"
   ]
  },
  {
   "cell_type": "markdown",
   "metadata": {},
   "source": [
    "create a string representation of the inorder and preorder traversals of both and check if T2 is a substring"
   ]
  },
  {
   "cell_type": "markdown",
   "metadata": {},
   "source": [
    "## 4.8 \n",
    "### You are given a binary tree in which each node contains a value.  Design an algorithm to print all paths which sum up to that value. Note that it can be any path in the tree - it does not have to start at the root "
   ]
  },
  {
   "cell_type": "code",
   "execution_count": null,
   "metadata": {},
   "outputs": [],
   "source": []
  }
 ],
 "metadata": {
  "kernelspec": {
   "display_name": "Python 3",
   "language": "python",
   "name": "python3"
  },
  "language_info": {
   "codemirror_mode": {
    "name": "ipython",
    "version": 3
   },
   "file_extension": ".py",
   "mimetype": "text/x-python",
   "name": "python",
   "nbconvert_exporter": "python",
   "pygments_lexer": "ipython3",
   "version": "3.7.3"
  }
 },
 "nbformat": 4,
 "nbformat_minor": 2
}
