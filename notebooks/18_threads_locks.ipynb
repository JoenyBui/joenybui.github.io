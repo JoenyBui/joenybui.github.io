{
 "cells": [
  {
   "cell_type": "markdown",
   "metadata": {},
   "source": [
    "## 18.1 \n",
    "### What’s the difference between a thread and a process? "
   ]
  },
  {
   "cell_type": "code",
   "execution_count": null,
   "metadata": {},
   "outputs": [],
   "source": []
  },
  {
   "cell_type": "markdown",
   "metadata": {},
   "source": [
    "## 18.2 \n",
    "### How can you measure the time spent in a context switch? \n"
   ]
  },
  {
   "cell_type": "code",
   "execution_count": null,
   "metadata": {},
   "outputs": [],
   "source": []
  },
  {
   "cell_type": "markdown",
   "metadata": {},
   "source": [
    "## 18.3 \n",
    "### Implement a singleton design pattern as a template such that, for any given class Foo, you can call Singleton::instance() and get a pointer to an instance of a singleton of type Foo Assume the existence of a class Lock which has acquire() and release() methods How could you make your implementation thread safe and exception safe? \n"
   ]
  },
  {
   "cell_type": "code",
   "execution_count": null,
   "metadata": {},
   "outputs": [],
   "source": []
  },
  {
   "cell_type": "markdown",
   "metadata": {},
   "source": [
    "## 18.4 \n",
    "### Design a class which provides a lock only if there are no possible deadlocks \n"
   ]
  },
  {
   "cell_type": "code",
   "execution_count": null,
   "metadata": {},
   "outputs": [],
   "source": []
  },
  {
   "cell_type": "markdown",
   "metadata": {},
   "source": [
    "## 18.5 \n",
    "### Suppose we have the following code:\n",
    "```\n",
    "        class Foo {\n",
    "            public:\n",
    "                A(.....); /* If A is called, a new thread will be created and * the corresponding function will be executed. */\n",
    "                B(.....); /* same as above */\n",
    "                C(.....); /* same as above */ \n",
    "        }\n",
    "            \n",
    "       Foo f; \n",
    "       f.A(.....); \n",
    "       f.B(.....); \n",
    "       f.C(.....);\n",
    "```\n",
    "\n",
    "i) Can you design a mechanism to make sure that B is executed after A, and C is ex- ecuted after B?\n",
    "iii) Suppose we have the following code to use class Foo We do not know how the threads will be scheduled in the OS\n",
    "Foo f;\n",
    "f.A(.....); f.B(.....); f.C(.....); f.A(.....); f.B(.....); f.C(.....);\n",
    "Can you design a mechanism to make sure that all the methods will be executed in sequence? \n"
   ]
  },
  {
   "cell_type": "code",
   "execution_count": null,
   "metadata": {},
   "outputs": [],
   "source": []
  },
  {
   "cell_type": "markdown",
   "metadata": {},
   "source": [
    "## 18.6 \n",
    "### You are given a class with synchronized method A, and a normal method C If you have two threads in one instance of a program, can they call A at the same time? Can they call A and C at the same time?"
   ]
  },
  {
   "cell_type": "code",
   "execution_count": null,
   "metadata": {},
   "outputs": [],
   "source": []
  }
 ],
 "metadata": {
  "kernelspec": {
   "display_name": "Python 3",
   "language": "python",
   "name": "python3"
  },
  "language_info": {
   "codemirror_mode": {
    "name": "ipython",
    "version": 3
   },
   "file_extension": ".py",
   "mimetype": "text/x-python",
   "name": "python",
   "nbconvert_exporter": "python",
   "pygments_lexer": "ipython3",
   "version": "3.7.3"
  }
 },
 "nbformat": 4,
 "nbformat_minor": 2
}
